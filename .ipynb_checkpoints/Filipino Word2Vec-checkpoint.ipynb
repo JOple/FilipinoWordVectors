{
 "cells": [
  {
   "cell_type": "code",
   "execution_count": 2,
   "metadata": {
    "collapsed": true
   },
   "outputs": [],
   "source": [
    "import warnings\n",
    "warnings.filterwarnings(action='ignore', category=UserWarning, module='gensim')\n",
    "\n",
    "import logging\n",
    "from gensim.models import word2vec\n",
    "\n",
    "logging.basicConfig(format='%(asctime)s : %(levelname)s : %(message)s', level=logging.INFO)"
   ]
  },
  {
   "cell_type": "code",
   "execution_count": 5,
   "metadata": {
    "scrolled": true
   },
   "outputs": [
    {
     "name": "stderr",
     "output_type": "stream",
     "text": [
      "2018-02-12 06:56:22,431 : INFO : collecting all words and their counts\n",
      "2018-02-12 06:56:22,434 : INFO : PROGRESS: at sentence #0, processed 0 words, keeping 0 word types\n",
      "2018-02-12 06:56:25,641 : INFO : collected 279184 word types from a corpus of 10292133 raw words and 1030 sentences\n",
      "2018-02-12 06:56:25,642 : INFO : Loading a fresh vocabulary\n",
      "2018-02-12 06:56:26,056 : INFO : min_count=5 retains 63033 unique words (22% of original 279184, drops 216151)\n",
      "2018-02-12 06:56:26,059 : INFO : min_count=5 leaves 9964035 word corpus (96% of original 10292133, drops 328098)\n",
      "2018-02-12 06:56:26,226 : INFO : deleting the raw counts dictionary of 279184 items\n",
      "2018-02-12 06:56:26,270 : INFO : sample=0.001 downsamples 31 most-common words\n",
      "2018-02-12 06:56:26,272 : INFO : downsampling leaves estimated 6920346 word corpus (69.5% of prior 9964035)\n",
      "2018-02-12 06:56:26,273 : INFO : estimated required memory for 63033 words and 200 dimensions: 132369300 bytes\n",
      "2018-02-12 06:56:26,486 : INFO : resetting layer weights\n",
      "2018-02-12 06:56:27,447 : INFO : training model with 3 workers on 63033 vocabulary and 200 features, using sg=0 hs=0 sample=0.001 negative=5 window=5\n",
      "2018-02-12 06:56:28,459 : INFO : PROGRESS: at 2.23% examples, 746873 words/s, in_qsize 5, out_qsize 0\n",
      "2018-02-12 06:56:29,460 : INFO : PROGRESS: at 4.70% examples, 798554 words/s, in_qsize 5, out_qsize 0\n",
      "2018-02-12 06:56:30,460 : INFO : PROGRESS: at 7.11% examples, 811941 words/s, in_qsize 5, out_qsize 0\n",
      "2018-02-12 06:56:31,459 : INFO : PROGRESS: at 9.50% examples, 814905 words/s, in_qsize 6, out_qsize 1\n",
      "2018-02-12 06:56:32,474 : INFO : PROGRESS: at 11.88% examples, 818029 words/s, in_qsize 6, out_qsize 0\n",
      "2018-02-12 06:56:33,470 : INFO : PROGRESS: at 14.21% examples, 816816 words/s, in_qsize 5, out_qsize 0\n",
      "2018-02-12 06:56:34,473 : INFO : PROGRESS: at 16.60% examples, 816740 words/s, in_qsize 5, out_qsize 0\n",
      "2018-02-12 06:56:35,483 : INFO : PROGRESS: at 19.05% examples, 820052 words/s, in_qsize 5, out_qsize 0\n",
      "2018-02-12 06:56:36,492 : INFO : PROGRESS: at 21.50% examples, 821636 words/s, in_qsize 6, out_qsize 0\n",
      "2018-02-12 06:56:37,493 : INFO : PROGRESS: at 23.96% examples, 822850 words/s, in_qsize 5, out_qsize 0\n",
      "2018-02-12 06:56:38,499 : INFO : PROGRESS: at 26.23% examples, 819852 words/s, in_qsize 6, out_qsize 0\n",
      "2018-02-12 06:56:39,505 : INFO : PROGRESS: at 28.68% examples, 821788 words/s, in_qsize 6, out_qsize 0\n",
      "2018-02-12 06:56:40,510 : INFO : PROGRESS: at 31.09% examples, 822707 words/s, in_qsize 6, out_qsize 0\n",
      "2018-02-12 06:56:41,516 : INFO : PROGRESS: at 33.40% examples, 821230 words/s, in_qsize 5, out_qsize 0\n",
      "2018-02-12 06:56:42,526 : INFO : PROGRESS: at 35.79% examples, 821588 words/s, in_qsize 6, out_qsize 1\n",
      "2018-02-12 06:56:43,529 : INFO : PROGRESS: at 38.21% examples, 821902 words/s, in_qsize 5, out_qsize 0\n",
      "2018-02-12 06:56:44,529 : INFO : PROGRESS: at 40.60% examples, 822943 words/s, in_qsize 5, out_qsize 0\n",
      "2018-02-12 06:56:45,533 : INFO : PROGRESS: at 43.11% examples, 823328 words/s, in_qsize 6, out_qsize 0\n",
      "2018-02-12 06:56:46,536 : INFO : PROGRESS: at 45.53% examples, 824524 words/s, in_qsize 6, out_qsize 0\n",
      "2018-02-12 06:56:47,532 : INFO : PROGRESS: at 47.98% examples, 825553 words/s, in_qsize 5, out_qsize 0\n",
      "2018-02-12 06:56:48,542 : INFO : PROGRESS: at 50.37% examples, 825716 words/s, in_qsize 5, out_qsize 0\n",
      "2018-02-12 06:56:49,548 : INFO : PROGRESS: at 52.82% examples, 826644 words/s, in_qsize 6, out_qsize 0\n",
      "2018-02-12 06:56:50,559 : INFO : PROGRESS: at 55.26% examples, 827274 words/s, in_qsize 6, out_qsize 0\n",
      "2018-02-12 06:56:51,563 : INFO : PROGRESS: at 57.73% examples, 827790 words/s, in_qsize 6, out_qsize 0\n",
      "2018-02-12 06:56:52,572 : INFO : PROGRESS: at 60.17% examples, 829026 words/s, in_qsize 5, out_qsize 0\n",
      "2018-02-12 06:56:53,572 : INFO : PROGRESS: at 62.60% examples, 828373 words/s, in_qsize 5, out_qsize 0\n",
      "2018-02-12 06:56:54,575 : INFO : PROGRESS: at 64.97% examples, 827980 words/s, in_qsize 5, out_qsize 0\n",
      "2018-02-12 06:56:55,578 : INFO : PROGRESS: at 67.32% examples, 827615 words/s, in_qsize 6, out_qsize 0\n",
      "2018-02-12 06:56:56,579 : INFO : PROGRESS: at 69.71% examples, 827421 words/s, in_qsize 5, out_qsize 0\n",
      "2018-02-12 06:56:57,585 : INFO : PROGRESS: at 72.10% examples, 827605 words/s, in_qsize 5, out_qsize 0\n",
      "2018-02-12 06:56:58,591 : INFO : PROGRESS: at 74.49% examples, 827430 words/s, in_qsize 6, out_qsize 1\n",
      "2018-02-12 06:56:59,604 : INFO : PROGRESS: at 76.93% examples, 827553 words/s, in_qsize 6, out_qsize 1\n",
      "2018-02-12 06:57:00,607 : INFO : PROGRESS: at 79.36% examples, 828248 words/s, in_qsize 5, out_qsize 0\n",
      "2018-02-12 06:57:01,615 : INFO : PROGRESS: at 81.86% examples, 828499 words/s, in_qsize 6, out_qsize 1\n",
      "2018-02-12 06:57:02,628 : INFO : PROGRESS: at 84.31% examples, 828737 words/s, in_qsize 6, out_qsize 0\n",
      "2018-02-12 06:57:03,625 : INFO : PROGRESS: at 86.74% examples, 829055 words/s, in_qsize 6, out_qsize 0\n",
      "2018-02-12 06:57:04,634 : INFO : PROGRESS: at 89.20% examples, 829637 words/s, in_qsize 5, out_qsize 0\n",
      "2018-02-12 06:57:05,640 : INFO : PROGRESS: at 91.63% examples, 830044 words/s, in_qsize 6, out_qsize 0\n",
      "2018-02-12 06:57:06,644 : INFO : PROGRESS: at 94.08% examples, 830493 words/s, in_qsize 6, out_qsize 0\n",
      "2018-02-12 06:57:07,647 : INFO : PROGRESS: at 96.52% examples, 830565 words/s, in_qsize 6, out_qsize 0\n",
      "2018-02-12 06:57:08,664 : INFO : PROGRESS: at 98.97% examples, 830726 words/s, in_qsize 6, out_qsize 0\n",
      "2018-02-12 06:57:09,065 : INFO : worker thread finished; awaiting finish of 2 more threads\n",
      "2018-02-12 06:57:09,073 : INFO : worker thread finished; awaiting finish of 1 more threads\n",
      "2018-02-12 06:57:09,078 : INFO : worker thread finished; awaiting finish of 0 more threads\n",
      "2018-02-12 06:57:09,079 : INFO : training on 51460665 raw words (34599504 effective words) took 41.6s, 831159 effective words/s\n"
     ]
    }
   ],
   "source": [
    "\n",
    "\n",
    "sentences = word2vec.Text8Corpus('filpino_mined_corpus.txt')\n",
    "\n",
    "model = word2vec.Word2Vec(sentences, size=200)"
   ]
  },
  {
   "cell_type": "code",
   "execution_count": 6,
   "metadata": {
    "collapsed": true
   },
   "outputs": [
    {
     "name": "stderr",
     "output_type": "stream",
     "text": [
      "2018-02-12 07:01:30,276 : INFO : saving Word2Vec object under corpus_mined.model, separately None\n",
      "2018-02-12 07:01:30,278 : INFO : not storing attribute syn0norm\n",
      "2018-02-12 07:01:30,279 : INFO : storing np array 'syn0' to corpus_mined.model.wv.syn0.npy\n",
      "2018-02-12 07:01:31,328 : INFO : storing np array 'syn1neg' to corpus_mined.model.syn1neg.npy\n",
      "2018-02-12 07:01:32,308 : INFO : not storing attribute cum_table\n",
      "2018-02-12 07:01:33,084 : INFO : saved corpus_mined.model\n"
     ]
    }
   ],
   "source": [
    "model.save('corpus_mined.model')"
   ]
  },
  {
   "cell_type": "code",
   "execution_count": 8,
   "metadata": {},
   "outputs": [
    {
     "name": "stderr",
     "output_type": "stream",
     "text": [
      "2018-02-12 07:04:45,132 : INFO : storing 63033x200 projection weights into corpus_mined.model.bin\n"
     ]
    }
   ],
   "source": [
    "model.wv.save_word2vec_format('corpus_mined.model.bin', binary=True)"
   ]
  },
  {
   "cell_type": "code",
   "execution_count": 3,
   "metadata": {},
   "outputs": [
    {
     "name": "stderr",
     "output_type": "stream",
     "text": [
      "2018-03-06 04:13:26,565 : INFO : loading projection weights from corpus_mined.model.bin\n",
      "2018-03-06 04:13:32,832 : INFO : loaded (63033L, 200L) matrix from corpus_mined.model.bin\n"
     ]
    }
   ],
   "source": [
    "trained_model = word2vec.KeyedVectors.load_word2vec_format('corpus_mined.model.bin', binary=True)"
   ]
  },
  {
   "cell_type": "code",
   "execution_count": 5,
   "metadata": {
    "collapsed": true
   },
   "outputs": [
    {
     "data": {
      "text/plain": [
       "[(u'haring', 0.7637672424316406),\n",
       " (u'dios', 0.7296719551086426),\n",
       " (u'anac', 0.7088905572891235),\n",
       " (u'templo', 0.6933295130729675),\n",
       " (u'pasion', 0.690303385257721),\n",
       " (u'capatid', 0.6832506060600281),\n",
       " (u'poon', 0.6832426190376282),\n",
       " (u'santo', 0.6808896064758301),\n",
       " (u'mesias', 0.6755546927452087),\n",
       " (u'aua', 0.6727008819580078)]"
      ]
     },
     "execution_count": 5,
     "metadata": {},
     "output_type": "execute_result"
    }
   ],
   "source": [
    "trained_model.wv.most_similar(positive=['babae', 'hari'], negative=['lalaki'])"
   ]
  },
  {
   "cell_type": "code",
   "execution_count": 19,
   "metadata": {
    "collapsed": true
   },
   "outputs": [
    {
     "data": {
      "text/plain": [
       "[(u'prince', 0.6171398758888245),\n",
       " (u'woman', 0.6082608699798584),\n",
       " (u'pleasant', 0.591740608215332),\n",
       " (u'queen', 0.569652795791626),\n",
       " (u'little', 0.5672236084938049),\n",
       " (u'became', 0.5644658803939819),\n",
       " (u'rrrampa', 0.5628761053085327),\n",
       " (u'lot', 0.5610076189041138),\n",
       " (u'champ', 0.560670018196106),\n",
       " (u'sensation', 0.5583206415176392)]"
      ]
     },
     "execution_count": 19,
     "metadata": {},
     "output_type": "execute_result"
    }
   ],
   "source": [
    "trained_model.wv.most_similar(positive=['babae', 'king'], negative=['lalaki'])"
   ]
  },
  {
   "cell_type": "code",
   "execution_count": 24,
   "metadata": {
    "collapsed": true
   },
   "outputs": [
    {
     "data": {
      "text/plain": [
       "[(u'florentino', 0.7848258018493652),\n",
       " (u'clara', 0.7806248664855957),\n",
       " (u'gmez', 0.7782394289970398),\n",
       " (u'fray', 0.766878604888916),\n",
       " (u'tandang', 0.7603986263275146),\n",
       " (u'maria', 0.7593796253204346),\n",
       " (u'custodio', 0.7593792676925659),\n",
       " (u'zamora', 0.7531015872955322),\n",
       " (u'jess', 0.7461919784545898),\n",
       " (u'herodes', 0.7435847520828247)]"
      ]
     },
     "execution_count": 24,
     "metadata": {},
     "output_type": "execute_result"
    }
   ],
   "source": [
    "trained_model.wv.most_similar(positive=['babae', 'padre'], negative=['lalaki'])"
   ]
  },
  {
   "cell_type": "code",
   "execution_count": 27,
   "metadata": {
    "collapsed": true
   },
   "outputs": [
    {
     "data": {
      "text/plain": [
       "[(u'katoliko', 0.6427658796310425),\n",
       " (u'pariseo', 0.6279520392417908),\n",
       " (u'obispo', 0.6255508065223694),\n",
       " (u'aktibista', 0.5953905582427979),\n",
       " (u'saserdote', 0.5828626155853271),\n",
       " (u'prayle', 0.577214241027832),\n",
       " (u'seserdote', 0.5716898441314697),\n",
       " (u'tulisan', 0.5583681464195251),\n",
       " (u'judio', 0.5553829669952393),\n",
       " (u'pastor', 0.5501376390457153)]"
      ]
     },
     "execution_count": 27,
     "metadata": {},
     "output_type": "execute_result"
    }
   ],
   "source": [
    "trained_model.wv.most_similar(positive=['babae', 'pari'], negative=['lalaki'])"
   ]
  },
  {
   "cell_type": "code",
   "execution_count": 28,
   "metadata": {
    "collapsed": true
   },
   "outputs": [
    {
     "data": {
      "text/plain": [
       "[(u'creating', 0.8246002793312073),\n",
       " (u'novel', 0.7964674830436707),\n",
       " (u'came', 0.7866364121437073),\n",
       " (u'almighty', 0.7687910795211792),\n",
       " (u'tonyabs', 0.7686539888381958),\n",
       " (u'different', 0.7665812969207764),\n",
       " (u'fool', 0.7628787159919739),\n",
       " (u'hague', 0.7601532936096191),\n",
       " (u'reaching', 0.7574243545532227),\n",
       " (u'marion', 0.7573153376579285)]"
      ]
     },
     "execution_count": 28,
     "metadata": {},
     "output_type": "execute_result"
    }
   ],
   "source": [
    "trained_model.wv.most_similar(positive=['babae', 'priest'], negative=['lalaki'])"
   ]
  },
  {
   "cell_type": "code",
   "execution_count": 33,
   "metadata": {
    "collapsed": true
   },
   "outputs": [
    {
     "data": {
      "text/plain": [
       "[(u'martir', 0.6607808470726013),\n",
       " (u'mara', 0.6512951254844666),\n",
       " (u'hari', 0.646990954875946),\n",
       " (u'esposo', 0.6406480073928833),\n",
       " (u'devocion', 0.6329700946807861),\n",
       " (u'icalaua', 0.6238437294960022),\n",
       " (u'haring', 0.6211498379707336),\n",
       " (u'esposa', 0.6152951717376709),\n",
       " (u'dona', 0.6097991466522217),\n",
       " (u'anac', 0.6055927276611328)]"
      ]
     },
     "execution_count": 33,
     "metadata": {},
     "output_type": "execute_result"
    }
   ],
   "source": [
    "trained_model.wv.most_similar(positive=['lalaki', 'reyna'], negative=['babae'])"
   ]
  },
  {
   "cell_type": "code",
   "execution_count": 35,
   "metadata": {
    "collapsed": true
   },
   "outputs": [
    {
     "data": {
      "text/plain": [
       "[(u'kumpare', 0.8033047914505005),\n",
       " (u'dede', 0.7666771411895752),\n",
       " (u'hinimas-himas', 0.7508524656295776),\n",
       " (u'tinggil', 0.7403706908226013),\n",
       " (u'ex-wife', 0.7402782440185547),\n",
       " (u'na-maintain', 0.7342595458030701),\n",
       " (u'lovey-dovey', 0.7338799834251404),\n",
       " (u'ipinagbubuntis', 0.73347008228302),\n",
       " (u'boypren', 0.7323147654533386),\n",
       " (u'pinisil-pisil', 0.7320989370346069)]"
      ]
     },
     "execution_count": 35,
     "metadata": {},
     "output_type": "execute_result"
    }
   ],
   "source": [
    "trained_model.wv.most_similar(positive=['lalaki', 'kumare'], negative=['babae'])"
   ]
  },
  {
   "cell_type": "code",
   "execution_count": 36,
   "metadata": {
    "collapsed": true
   },
   "outputs": [
    {
     "data": {
      "text/plain": [
       "[(u'katagalugan', 0.7314512133598328),\n",
       " (u'katutubo', 0.7172950506210327),\n",
       " (u'dumagat', 0.7031304836273193),\n",
       " (u'tribo', 0.7001072764396667),\n",
       " (u'lupaing', 0.6951794028282166),\n",
       " (u'kabundukan', 0.6899126768112183),\n",
       " (u'kagubatan', 0.6880686283111572),\n",
       " (u'katutubong', 0.6822856664657593),\n",
       " (u'kapatagan', 0.6781678199768066),\n",
       " (u'lupang', 0.666994035243988)]"
      ]
     },
     "execution_count": 36,
     "metadata": {},
     "output_type": "execute_result"
    }
   ],
   "source": [
    "trained_model.wv.most_similar(positive=['lalaki', 'madre'], negative=['babae'])"
   ]
  },
  {
   "cell_type": "code",
   "execution_count": 37,
   "metadata": {
    "collapsed": true
   },
   "outputs": [
    {
     "data": {
      "text/plain": [
       "[(u'blouse', 0.7932909727096558),\n",
       " (u'sinipsip', 0.7821668982505798),\n",
       " (u'zipper', 0.7783730030059814),\n",
       " (u'tinggil', 0.7716529369354248),\n",
       " (u'alindog', 0.7692566514015198),\n",
       " (u'inangat', 0.7581413388252258),\n",
       " (u'brief', 0.7580324411392212),\n",
       " (u'siper', 0.7565865516662598),\n",
       " (u'laylayan', 0.752509355545044),\n",
       " (u'kuntil', 0.7513877153396606)]"
      ]
     },
     "execution_count": 37,
     "metadata": {},
     "output_type": "execute_result"
    }
   ],
   "source": [
    "trained_model.wv.most_similar(positive=['lalaki', 'palda'], negative=['babae'])"
   ]
  },
  {
   "cell_type": "code",
   "execution_count": 39,
   "metadata": {
    "collapsed": true
   },
   "outputs": [
    {
     "data": {
      "text/plain": [
       "[(u'estudyante', 0.6823785305023193),\n",
       " (u'mag-aaral', 0.6369200348854065),\n",
       " (u'matatanda', 0.6084837913513184),\n",
       " (u'paaralan', 0.590978741645813),\n",
       " (u'banyaga', 0.5905554890632629),\n",
       " (u'manunulat', 0.5610142350196838),\n",
       " (u'katutubo', 0.5555513501167297),\n",
       " (u'pamayanan', 0.5476013422012329),\n",
       " (u'halimbawa', 0.5470359325408936),\n",
       " (u'mandirigma', 0.5435787439346313)]"
      ]
     },
     "execution_count": 39,
     "metadata": {},
     "output_type": "execute_result"
    }
   ],
   "source": [
    "trained_model.wv.most_similar(positive=['lalaki', 'guro'], negative=['babae'])"
   ]
  },
  {
   "cell_type": "code",
   "execution_count": 40,
   "metadata": {
    "collapsed": true
   },
   "outputs": [
    {
     "data": {
      "text/plain": [
       "[(u'pribado', 0.6386896967887878),\n",
       " (u'ahente', 0.6271699070930481),\n",
       " (u'bigating', 0.6187966465950012),\n",
       " (u'kawani', 0.6165275573730469),\n",
       " (u'atleta', 0.6126309633255005),\n",
       " (u'mangangalakal', 0.6124787330627441),\n",
       " (u'kontratista', 0.6111695170402527),\n",
       " (u'asosasyon', 0.6078788042068481),\n",
       " (u'mediamen', 0.6014689207077026),\n",
       " (u'beterano', 0.5964196920394897)]"
      ]
     },
     "execution_count": 40,
     "metadata": {},
     "output_type": "execute_result"
    }
   ],
   "source": [
    "trained_model.wv.most_similar(positive=['lalaki', 'nars'], negative=['babae'])"
   ]
  },
  {
   "cell_type": "code",
   "execution_count": 44,
   "metadata": {
    "collapsed": true
   },
   "outputs": [
    {
     "data": {
      "text/plain": [
       "[(u'panty', 0.860829770565033),\n",
       " (u'brief', 0.838490903377533),\n",
       " (u'hita', 0.8182815313339233),\n",
       " (u'dila', 0.8015948534011841),\n",
       " (u'binti', 0.792409360408783),\n",
       " (u'hinubad', 0.7852532863616943),\n",
       " (u'puwet', 0.7835444808006287),\n",
       " (u'utong', 0.7819033265113831),\n",
       " (u'pisngi', 0.7787590026855469),\n",
       " (u'pekpek', 0.7768281102180481)]"
      ]
     },
     "execution_count": 44,
     "metadata": {},
     "output_type": "execute_result"
    }
   ],
   "source": [
    "trained_model.wv.most_similar(positive=['lalaki', 'bra'], negative=['babae'])"
   ]
  },
  {
   "cell_type": "code",
   "execution_count": 45,
   "metadata": {},
   "outputs": [
    {
     "data": {
      "text/plain": [
       "'kain'"
      ]
     },
     "execution_count": 45,
     "metadata": {},
     "output_type": "execute_result"
    }
   ],
   "source": [
    "trained_model.wv.doesnt_match(\"umaga kain hapon gabi\".split())"
   ]
  },
  {
   "cell_type": "code",
   "execution_count": 48,
   "metadata": {},
   "outputs": [
    {
     "data": {
      "text/plain": [
       "'gabi'"
      ]
     },
     "execution_count": 48,
     "metadata": {},
     "output_type": "execute_result"
    }
   ],
   "source": [
    "trained_model.wv.doesnt_match(\"kain inom drink gabi\".split())"
   ]
  },
  {
   "cell_type": "code",
   "execution_count": 51,
   "metadata": {},
   "outputs": [
    {
     "data": {
      "text/plain": [
       "'ulo'"
      ]
     },
     "execution_count": 51,
     "metadata": {},
     "output_type": "execute_result"
    }
   ],
   "source": [
    "trained_model.wv.doesnt_match(\"tenga mata dila ulo\".split())"
   ]
  },
  {
   "cell_type": "code",
   "execution_count": 55,
   "metadata": {
    "collapsed": true
   },
   "outputs": [
    {
     "data": {
      "text/plain": [
       "[(u'parents', 0.8000760674476624),\n",
       " (u'mommy', 0.7827185392379761),\n",
       " (u'husband', 0.7645609974861145),\n",
       " (u'ex', 0.7624033093452454),\n",
       " (u'mama', 0.7460547089576721),\n",
       " (u'nanay', 0.7425967454910278),\n",
       " (u'crush', 0.742351233959198),\n",
       " (u'misis', 0.7326620817184448),\n",
       " (u'sister', 0.7289335131645203),\n",
       " (u'bf', 0.7239216566085815)]"
      ]
     },
     "execution_count": 55,
     "metadata": {},
     "output_type": "execute_result"
    }
   ],
   "source": [
    "trained_model.wv.most_similar(positive=['babae', 'daddy'], negative=['lalaki'])"
   ]
  },
  {
   "cell_type": "code",
   "execution_count": 56,
   "metadata": {
    "collapsed": true
   },
   "outputs": [
    {
     "data": {
      "text/plain": [
       "[(u'mama', 0.7145285606384277),\n",
       " (u'kulit', 0.6889793872833252),\n",
       " (u'father', 0.6804361939430237),\n",
       " (u'daddy', 0.6803810596466064),\n",
       " (u'ex', 0.6757880449295044),\n",
       " (u'ate', 0.670062780380249),\n",
       " (u'parents', 0.6634933948516846),\n",
       " (u'mary', 0.6520497798919678),\n",
       " (u'inay', 0.6474143266677856),\n",
       " (u'lola', 0.6469060778617859)]"
      ]
     },
     "execution_count": 56,
     "metadata": {},
     "output_type": "execute_result"
    }
   ],
   "source": [
    "trained_model.wv.most_similar(positive=['babae', 'papa'], negative=['lalaki'])"
   ]
  },
  {
   "cell_type": "code",
   "execution_count": 57,
   "metadata": {
    "collapsed": true
   },
   "outputs": [
    {
     "data": {
      "text/plain": [
       "[(u'ate', 0.7006677389144897),\n",
       " (u'lola', 0.6915329694747925),\n",
       " (u'mama', 0.6806254386901855),\n",
       " (u'pinsan', 0.6414811015129089),\n",
       " (u'daddy', 0.6337729692459106),\n",
       " (u'tito', 0.6334531903266907),\n",
       " (u'nanay', 0.6331368088722229),\n",
       " (u'inay', 0.6321321129798889),\n",
       " (u'tita', 0.6290061473846436),\n",
       " (u'ex', 0.6273157596588135)]"
      ]
     },
     "execution_count": 57,
     "metadata": {},
     "output_type": "execute_result"
    }
   ],
   "source": [
    "trained_model.wv.most_similar(positive=['babae', 'kuya'], negative=['lalaki'])"
   ]
  },
  {
   "cell_type": "code",
   "execution_count": 58,
   "metadata": {
    "collapsed": true
   },
   "outputs": [
    {
     "data": {
      "text/plain": [
       "[(u'lola', 0.8135391473770142),\n",
       " (u'pinsan', 0.7191461324691772),\n",
       " (u'mama', 0.7134989500045776),\n",
       " (u'apo', 0.7030922770500183),\n",
       " (u'tatay', 0.6752579212188721),\n",
       " (u'nanay', 0.6733041405677795),\n",
       " (u'kalaro', 0.6646097898483276),\n",
       " (u'pamangkin', 0.6600281000137329),\n",
       " (u'bunso', 0.649709939956665),\n",
       " (u'mary', 0.6474453210830688)]"
      ]
     },
     "execution_count": 58,
     "metadata": {},
     "output_type": "execute_result"
    }
   ],
   "source": [
    "trained_model.wv.most_similar(positive=['babae', 'lolo'], negative=['lalaki'])"
   ]
  },
  {
   "cell_type": "code",
   "execution_count": 59,
   "metadata": {
    "collapsed": true
   },
   "outputs": [
    {
     "data": {
      "text/plain": [
       "[(u'nanay', 0.8592464923858643),\n",
       " (u'lola', 0.7755500078201294),\n",
       " (u'mama', 0.7292027473449707),\n",
       " (u'pinsan', 0.7063233852386475),\n",
       " (u'lolo', 0.7037711143493652),\n",
       " (u'misis', 0.6731163263320923),\n",
       " (u'daddy', 0.6719381809234619),\n",
       " (u'papa', 0.6541366577148438),\n",
       " (u'pamangkin', 0.6504310369491577),\n",
       " (u'parents', 0.6482037305831909)]"
      ]
     },
     "execution_count": 59,
     "metadata": {},
     "output_type": "execute_result"
    }
   ],
   "source": [
    "trained_model.wv.most_similar(positive=['babae', 'tatay'], negative=['lalaki'])"
   ]
  },
  {
   "cell_type": "code",
   "execution_count": 60,
   "metadata": {
    "collapsed": true
   },
   "outputs": [
    {
     "data": {
      "text/plain": [
       "[(u'vic', 0.7610591650009155),\n",
       " (u'sotto', 0.7563215494155884),\n",
       " (u'roces', 0.7524173259735107),\n",
       " (u'lorenzo', 0.7441587448120117),\n",
       " (u'alfie', 0.7416501045227051),\n",
       " (u'susan', 0.7396259307861328),\n",
       " (u'ann', 0.7310152053833008),\n",
       " (u'carlo', 0.7298233509063721),\n",
       " (u'jason', 0.7270385026931763),\n",
       " (u'gonzaga', 0.7258821725845337)]"
      ]
     },
     "execution_count": 60,
     "metadata": {},
     "output_type": "execute_result"
    }
   ],
   "source": [
    "trained_model.wv.most_similar(positive=['babae', 'tito'], negative=['lalaki'])"
   ]
  },
  {
   "cell_type": "code",
   "execution_count": 61,
   "metadata": {
    "collapsed": true
   },
   "outputs": [
    {
     "data": {
      "text/plain": [
       "[(u'ate', 0.701259970664978),\n",
       " (u'rama', 0.6792341470718384),\n",
       " (u'maam', 0.6767922639846802),\n",
       " (u'annabelle', 0.6656653881072998),\n",
       " (u'tito', 0.6488864421844482),\n",
       " (u'kuya', 0.626443088054657),\n",
       " (u'bossing', 0.6191601753234863),\n",
       " (u'agnes', 0.6137886047363281),\n",
       " (u'nora', 0.6131014823913574),\n",
       " (u'cielo', 0.6021590828895569)]"
      ]
     },
     "execution_count": 61,
     "metadata": {},
     "output_type": "execute_result"
    }
   ],
   "source": [
    "trained_model.wv.most_similar(positive=['lalaki', 'tita'], negative=['babae'])"
   ]
  },
  {
   "cell_type": "code",
   "execution_count": 64,
   "metadata": {
    "collapsed": true
   },
   "outputs": [
    {
     "data": {
      "text/plain": [
       "[(u'marian', 0.8553144335746765),\n",
       " (u'juday', 0.8049613237380981),\n",
       " (u'richard', 0.7884833216667175),\n",
       " (u'dennis', 0.7777201533317566),\n",
       " (u'aljur', 0.7669371366500854),\n",
       " (u'dyesebel', 0.7591902613639832),\n",
       " (u'ai', 0.7532931566238403),\n",
       " (u'regine', 0.7506029605865479),\n",
       " (u'ruffa', 0.7454708814620972),\n",
       " (u'karylle', 0.7423970103263855)]"
      ]
     },
     "execution_count": 64,
     "metadata": {},
     "output_type": "execute_result"
    }
   ],
   "source": [
    "trained_model.wv.most_similar(positive=['babae', 'dingdong'], negative=['lalaki'])"
   ]
  },
  {
   "cell_type": "code",
   "execution_count": 74,
   "metadata": {
    "collapsed": true
   },
   "outputs": [
    {
     "data": {
      "text/plain": [
       "[(u'regine', 0.8443816304206848),\n",
       " (u'claudine', 0.8107008934020996),\n",
       " (u'aljur', 0.8081346154212952),\n",
       " (u'billy', 0.8077043294906616),\n",
       " (u'lovi', 0.8061452507972717),\n",
       " (u'sharon', 0.8046514987945557),\n",
       " (u'pauleen', 0.7985424995422363),\n",
       " (u'anne', 0.7983254194259644),\n",
       " (u'sarah', 0.7963966131210327),\n",
       " (u'jolina', 0.7944818735122681)]"
      ]
     },
     "execution_count": 74,
     "metadata": {},
     "output_type": "execute_result"
    }
   ],
   "source": [
    "trained_model.wv.most_similar(positive=['babae', 'ogie'], negative=['lalaki'])"
   ]
  },
  {
   "cell_type": "code",
   "execution_count": 75,
   "metadata": {
    "collapsed": true
   },
   "outputs": [
    {
     "data": {
      "text/plain": [
       "[(u'billy', 0.8260988593101501),\n",
       " (u'iza', 0.8169715404510498),\n",
       " (u'jake', 0.813685417175293),\n",
       " (u'angelica', 0.8073885440826416),\n",
       " (u'carla', 0.8054470419883728),\n",
       " (u'derek', 0.8031266927719116),\n",
       " (u'karylle', 0.8007777333259583),\n",
       " (u'jolina', 0.8005821704864502),\n",
       " (u'ehra', 0.8001787066459656),\n",
       " (u'ogie', 0.7956331968307495)]"
      ]
     },
     "execution_count": 75,
     "metadata": {},
     "output_type": "execute_result"
    }
   ],
   "source": [
    "trained_model.wv.most_similar(positive=['babae', 'anne'], negative=['lalaki'])"
   ]
  },
  {
   "cell_type": "code",
   "execution_count": 78,
   "metadata": {
    "collapsed": true
   },
   "outputs": [
    {
     "data": {
      "text/plain": [
       "[(u'piolo', 0.7707788944244385),\n",
       " (u'pokwang', 0.7564260363578796),\n",
       " (u'jc', 0.743965744972229),\n",
       " (u'aljur', 0.7403597831726074),\n",
       " (u'bea', 0.7384230494499207),\n",
       " (u'anne', 0.7374598979949951),\n",
       " (u'jericho', 0.7363563776016235),\n",
       " (u'isabel', 0.7355007529258728),\n",
       " (u'angelica', 0.7300338745117188),\n",
       " (u'karylle', 0.7294802069664001)]"
      ]
     },
     "execution_count": 78,
     "metadata": {},
     "output_type": "execute_result"
    }
   ],
   "source": [
    "trained_model.wv.most_similar(positive=['lalaki', 'sam'], negative=['babae'])"
   ]
  },
  {
   "cell_type": "code",
   "execution_count": 79,
   "metadata": {
    "collapsed": true
   },
   "outputs": [
    {
     "data": {
      "text/plain": [
       "[(u'prats', 0.6954866647720337),\n",
       " (u'john', 0.6831121444702148),\n",
       " (u'lloyd-sarah', 0.6409294605255127),\n",
       " (u'shaina', 0.6390010118484497),\n",
       " (u'pratts', 0.6211244463920593),\n",
       " (u'magdayao', 0.618720531463623),\n",
       " (u'alonzo', 0.6114354133605957),\n",
       " (u'lapus', 0.609074056148529),\n",
       " (u'isabel', 0.6011805534362793),\n",
       " (u'bea', 0.6009173393249512)]"
      ]
     },
     "execution_count": 79,
     "metadata": {},
     "output_type": "execute_result"
    }
   ],
   "source": [
    "trained_model.wv.most_similar(positive=['lalaki', 'lloyd'], negative=['babae'])"
   ]
  },
  {
   "cell_type": "code",
   "execution_count": 80,
   "metadata": {
    "collapsed": true
   },
   "outputs": [
    {
     "data": {
      "text/plain": [
       "[(u'cristine', 0.8218753337860107),\n",
       " (u'pokwang', 0.8108311891555786),\n",
       " (u'robin', 0.8058129549026489),\n",
       " (u'aljur', 0.8047870397567749),\n",
       " (u'iza', 0.8047373294830322),\n",
       " (u'claudine', 0.8019806742668152),\n",
       " (u'lovi', 0.8005254864692688),\n",
       " (u'karylle', 0.7966713905334473),\n",
       " (u'mark', 0.7961139678955078),\n",
       " (u'billy', 0.7942270040512085)]"
      ]
     },
     "execution_count": 80,
     "metadata": {},
     "output_type": "execute_result"
    }
   ],
   "source": [
    "trained_model.wv.most_similar(positive=['lalaki', 'sarah'], negative=['babae'])"
   ]
  },
  {
   "cell_type": "code",
   "execution_count": 81,
   "metadata": {
    "collapsed": true
   },
   "outputs": [
    {
     "data": {
      "text/plain": [
       "[(u'claudine', 0.8297762870788574),\n",
       " (u'billy', 0.8251062631607056),\n",
       " (u'lovi', 0.8240057229995728),\n",
       " (u'karylle', 0.8219947218894958),\n",
       " (u'dennis', 0.8216933012008667),\n",
       " (u'regine', 0.8205553293228149),\n",
       " (u'gladys', 0.8195346593856812),\n",
       " (u'rosanna', 0.8194119334220886),\n",
       " (u'janno', 0.8187180161476135),\n",
       " (u'anne', 0.8180605173110962)]"
      ]
     },
     "execution_count": 81,
     "metadata": {},
     "output_type": "execute_result"
    }
   ],
   "source": [
    "trained_model.wv.most_similar(positive=['babae', 'robin'], negative=['lalaki'])"
   ]
  },
  {
   "cell_type": "code",
   "execution_count": 83,
   "metadata": {
    "collapsed": true
   },
   "outputs": [
    {
     "data": {
      "text/plain": [
       "[(u'ai', 0.7661381959915161),\n",
       " (u'juday', 0.7519372701644897),\n",
       " (u'piolo', 0.7497339248657227),\n",
       " (u'angel', 0.7464063167572021),\n",
       " (u'karylle', 0.7413515448570251),\n",
       " (u'dyesebel', 0.7398947477340698),\n",
       " (u'ara', 0.737757682800293),\n",
       " (u'aljur', 0.7328740954399109),\n",
       " (u'regine', 0.7304927110671997),\n",
       " (u'jc', 0.7203137874603271)]"
      ]
     },
     "execution_count": 83,
     "metadata": {},
     "output_type": "execute_result"
    }
   ],
   "source": [
    "trained_model.wv.most_similar(positive=['marian', 'dingdong'], negative=['lalaki'])"
   ]
  },
  {
   "cell_type": "code",
   "execution_count": 1,
   "metadata": {
    "collapsed": true
   },
   "outputs": [],
   "source": [
    "import pandas as pd\n",
    "pd.options.mode.chained_assignment = None \n",
    "import re\n",
    "import nltk\n",
    "import numpy as np"
   ]
  },
  {
   "cell_type": "code",
   "execution_count": 7,
   "metadata": {
    "collapsed": true
   },
   "outputs": [],
   "source": [
    "from sklearn.manifold import TSNE\n",
    "import matplotlib.pyplot as plt\n",
    "%matplotlib inline"
   ]
  },
  {
   "cell_type": "code",
   "execution_count": 8,
   "metadata": {
    "collapsed": true
   },
   "outputs": [],
   "source": [
    "model = trained_model"
   ]
  },
  {
   "cell_type": "code",
   "execution_count": 9,
   "metadata": {
    "collapsed": true
   },
   "outputs": [],
   "source": [
    "def tsne_plot(model):\n",
    "    \"Creates and TSNE model and plots it\"\n",
    "    labels = []\n",
    "    tokens = []\n",
    "\n",
    "    for word in model.wv.vocab:\n",
    "        tokens.append(model[word])\n",
    "        labels.append(word)\n",
    "    \n",
    "    tsne_model = TSNE(perplexity=40, n_components=2, init='pca', n_iter=2500, random_state=23)\n",
    "    new_values = tsne_model.fit_transform(tokens)\n",
    "\n",
    "    x = []\n",
    "    y = []\n",
    "    for value in new_values:\n",
    "        x.append(value[0])\n",
    "        y.append(value[1])\n",
    "        \n",
    "    plt.figure(figsize=(16, 16)) \n",
    "    for i in range(len(x)):\n",
    "        plt.scatter(x[i],y[i])\n",
    "        plt.annotate(labels[i],\n",
    "                     xy=(x[i], y[i]),\n",
    "                     xytext=(5, 2),\n",
    "                     textcoords='offset points',\n",
    "                     ha='right',\n",
    "                     va='bottom')\n",
    "    plt.show()"
   ]
  },
  {
   "cell_type": "code",
   "execution_count": 10,
   "metadata": {},
   "outputs": [
    {
     "ename": "KeyboardInterrupt",
     "evalue": "",
     "output_type": "error",
     "traceback": [
      "\u001b[1;31m\u001b[0m",
      "\u001b[1;31mKeyboardInterrupt\u001b[0mTraceback (most recent call last)",
      "\u001b[1;32m<ipython-input-10-9a9ed44592dd>\u001b[0m in \u001b[0;36m<module>\u001b[1;34m()\u001b[0m\n\u001b[1;32m----> 1\u001b[1;33m \u001b[0mtsne_plot\u001b[0m\u001b[1;33m(\u001b[0m\u001b[0mmodel\u001b[0m\u001b[1;33m)\u001b[0m\u001b[1;33m\u001b[0m\u001b[0m\n\u001b[0m",
      "\u001b[1;32m<ipython-input-9-9b2537896464>\u001b[0m in \u001b[0;36mtsne_plot\u001b[1;34m(model)\u001b[0m\n\u001b[0;32m      9\u001b[0m \u001b[1;33m\u001b[0m\u001b[0m\n\u001b[0;32m     10\u001b[0m     \u001b[0mtsne_model\u001b[0m \u001b[1;33m=\u001b[0m \u001b[0mTSNE\u001b[0m\u001b[1;33m(\u001b[0m\u001b[0mperplexity\u001b[0m\u001b[1;33m=\u001b[0m\u001b[1;36m40\u001b[0m\u001b[1;33m,\u001b[0m \u001b[0mn_components\u001b[0m\u001b[1;33m=\u001b[0m\u001b[1;36m2\u001b[0m\u001b[1;33m,\u001b[0m \u001b[0minit\u001b[0m\u001b[1;33m=\u001b[0m\u001b[1;34m'pca'\u001b[0m\u001b[1;33m,\u001b[0m \u001b[0mn_iter\u001b[0m\u001b[1;33m=\u001b[0m\u001b[1;36m2500\u001b[0m\u001b[1;33m,\u001b[0m \u001b[0mrandom_state\u001b[0m\u001b[1;33m=\u001b[0m\u001b[1;36m23\u001b[0m\u001b[1;33m)\u001b[0m\u001b[1;33m\u001b[0m\u001b[0m\n\u001b[1;32m---> 11\u001b[1;33m     \u001b[0mnew_values\u001b[0m \u001b[1;33m=\u001b[0m \u001b[0mtsne_model\u001b[0m\u001b[1;33m.\u001b[0m\u001b[0mfit_transform\u001b[0m\u001b[1;33m(\u001b[0m\u001b[0mtokens\u001b[0m\u001b[1;33m)\u001b[0m\u001b[1;33m\u001b[0m\u001b[0m\n\u001b[0m\u001b[0;32m     12\u001b[0m \u001b[1;33m\u001b[0m\u001b[0m\n\u001b[0;32m     13\u001b[0m     \u001b[0mx\u001b[0m \u001b[1;33m=\u001b[0m \u001b[1;33m[\u001b[0m\u001b[1;33m]\u001b[0m\u001b[1;33m\u001b[0m\u001b[0m\n",
      "\u001b[1;32mC:\\Anaconda\\lib\\site-packages\\sklearn\\manifold\\t_sne.py\u001b[0m in \u001b[0;36mfit_transform\u001b[1;34m(self, X, y)\u001b[0m\n\u001b[0;32m    857\u001b[0m             \u001b[0mEmbedding\u001b[0m \u001b[0mof\u001b[0m \u001b[0mthe\u001b[0m \u001b[0mtraining\u001b[0m \u001b[0mdata\u001b[0m \u001b[1;32min\u001b[0m \u001b[0mlow\u001b[0m\u001b[1;33m-\u001b[0m\u001b[0mdimensional\u001b[0m \u001b[0mspace\u001b[0m\u001b[1;33m.\u001b[0m\u001b[1;33m\u001b[0m\u001b[0m\n\u001b[0;32m    858\u001b[0m         \"\"\"\n\u001b[1;32m--> 859\u001b[1;33m         \u001b[0membedding\u001b[0m \u001b[1;33m=\u001b[0m \u001b[0mself\u001b[0m\u001b[1;33m.\u001b[0m\u001b[0m_fit\u001b[0m\u001b[1;33m(\u001b[0m\u001b[0mX\u001b[0m\u001b[1;33m)\u001b[0m\u001b[1;33m\u001b[0m\u001b[0m\n\u001b[0m\u001b[0;32m    860\u001b[0m         \u001b[0mself\u001b[0m\u001b[1;33m.\u001b[0m\u001b[0membedding_\u001b[0m \u001b[1;33m=\u001b[0m \u001b[0membedding\u001b[0m\u001b[1;33m\u001b[0m\u001b[0m\n\u001b[0;32m    861\u001b[0m         \u001b[1;32mreturn\u001b[0m \u001b[0mself\u001b[0m\u001b[1;33m.\u001b[0m\u001b[0membedding_\u001b[0m\u001b[1;33m\u001b[0m\u001b[0m\n",
      "\u001b[1;32mC:\\Anaconda\\lib\\site-packages\\sklearn\\manifold\\t_sne.py\u001b[0m in \u001b[0;36m_fit\u001b[1;34m(self, X, skip_num_points)\u001b[0m\n\u001b[0;32m    771\u001b[0m                           \u001b[0mX_embedded\u001b[0m\u001b[1;33m=\u001b[0m\u001b[0mX_embedded\u001b[0m\u001b[1;33m,\u001b[0m\u001b[1;33m\u001b[0m\u001b[0m\n\u001b[0;32m    772\u001b[0m                           \u001b[0mneighbors\u001b[0m\u001b[1;33m=\u001b[0m\u001b[0mneighbors_nn\u001b[0m\u001b[1;33m,\u001b[0m\u001b[1;33m\u001b[0m\u001b[0m\n\u001b[1;32m--> 773\u001b[1;33m                           skip_num_points=skip_num_points)\n\u001b[0m\u001b[0;32m    774\u001b[0m \u001b[1;33m\u001b[0m\u001b[0m\n\u001b[0;32m    775\u001b[0m     \u001b[1;33m@\u001b[0m\u001b[0mproperty\u001b[0m\u001b[1;33m\u001b[0m\u001b[0m\n",
      "\u001b[1;32mC:\\Anaconda\\lib\\site-packages\\sklearn\\manifold\\t_sne.py\u001b[0m in \u001b[0;36m_tsne\u001b[1;34m(self, P, degrees_of_freedom, n_samples, random_state, X_embedded, neighbors, skip_num_points)\u001b[0m\n\u001b[0;32m    828\u001b[0m             \u001b[0mopt_args\u001b[0m\u001b[1;33m[\u001b[0m\u001b[1;34m'n_iter_without_progress'\u001b[0m\u001b[1;33m]\u001b[0m \u001b[1;33m=\u001b[0m \u001b[0mself\u001b[0m\u001b[1;33m.\u001b[0m\u001b[0mn_iter_without_progress\u001b[0m\u001b[1;33m\u001b[0m\u001b[0m\n\u001b[0;32m    829\u001b[0m             params, kl_divergence, it = _gradient_descent(obj_func, params,\n\u001b[1;32m--> 830\u001b[1;33m                                                           **opt_args)\n\u001b[0m\u001b[0;32m    831\u001b[0m \u001b[1;33m\u001b[0m\u001b[0m\n\u001b[0;32m    832\u001b[0m         \u001b[1;31m# Save the final number of iterations\u001b[0m\u001b[1;33m\u001b[0m\u001b[1;33m\u001b[0m\u001b[0m\n",
      "\u001b[1;32mC:\\Anaconda\\lib\\site-packages\\sklearn\\manifold\\t_sne.py\u001b[0m in \u001b[0;36m_gradient_descent\u001b[1;34m(objective, p0, it, n_iter, n_iter_check, n_iter_without_progress, momentum, learning_rate, min_gain, min_grad_norm, verbose, args, kwargs)\u001b[0m\n\u001b[0;32m    337\u001b[0m     \u001b[0mtic\u001b[0m \u001b[1;33m=\u001b[0m \u001b[0mtime\u001b[0m\u001b[1;33m(\u001b[0m\u001b[1;33m)\u001b[0m\u001b[1;33m\u001b[0m\u001b[0m\n\u001b[0;32m    338\u001b[0m     \u001b[1;32mfor\u001b[0m \u001b[0mi\u001b[0m \u001b[1;32min\u001b[0m \u001b[0mrange\u001b[0m\u001b[1;33m(\u001b[0m\u001b[0mit\u001b[0m\u001b[1;33m,\u001b[0m \u001b[0mn_iter\u001b[0m\u001b[1;33m)\u001b[0m\u001b[1;33m:\u001b[0m\u001b[1;33m\u001b[0m\u001b[0m\n\u001b[1;32m--> 339\u001b[1;33m         \u001b[0merror\u001b[0m\u001b[1;33m,\u001b[0m \u001b[0mgrad\u001b[0m \u001b[1;33m=\u001b[0m \u001b[0mobjective\u001b[0m\u001b[1;33m(\u001b[0m\u001b[0mp\u001b[0m\u001b[1;33m,\u001b[0m \u001b[1;33m*\u001b[0m\u001b[0margs\u001b[0m\u001b[1;33m,\u001b[0m \u001b[1;33m**\u001b[0m\u001b[0mkwargs\u001b[0m\u001b[1;33m)\u001b[0m\u001b[1;33m\u001b[0m\u001b[0m\n\u001b[0m\u001b[0;32m    340\u001b[0m         \u001b[0mgrad_norm\u001b[0m \u001b[1;33m=\u001b[0m \u001b[0mlinalg\u001b[0m\u001b[1;33m.\u001b[0m\u001b[0mnorm\u001b[0m\u001b[1;33m(\u001b[0m\u001b[0mgrad\u001b[0m\u001b[1;33m)\u001b[0m\u001b[1;33m\u001b[0m\u001b[0m\n\u001b[0;32m    341\u001b[0m \u001b[1;33m\u001b[0m\u001b[0m\n",
      "\u001b[1;32mC:\\Anaconda\\lib\\site-packages\\sklearn\\manifold\\t_sne.py\u001b[0m in \u001b[0;36m_kl_divergence_bh\u001b[1;34m(params, P, degrees_of_freedom, n_samples, n_components, angle, skip_num_points, verbose)\u001b[0m\n\u001b[0;32m    248\u001b[0m     \u001b[0mc\u001b[0m \u001b[1;33m=\u001b[0m \u001b[1;36m2.0\u001b[0m \u001b[1;33m*\u001b[0m \u001b[1;33m(\u001b[0m\u001b[0mdegrees_of_freedom\u001b[0m \u001b[1;33m+\u001b[0m \u001b[1;36m1.0\u001b[0m\u001b[1;33m)\u001b[0m \u001b[1;33m/\u001b[0m \u001b[0mdegrees_of_freedom\u001b[0m\u001b[1;33m\u001b[0m\u001b[0m\n\u001b[0;32m    249\u001b[0m     \u001b[0mgrad\u001b[0m \u001b[1;33m=\u001b[0m \u001b[0mgrad\u001b[0m\u001b[1;33m.\u001b[0m\u001b[0mravel\u001b[0m\u001b[1;33m(\u001b[0m\u001b[1;33m)\u001b[0m\u001b[1;33m\u001b[0m\u001b[0m\n\u001b[1;32m--> 250\u001b[1;33m     \u001b[0mgrad\u001b[0m \u001b[1;33m*=\u001b[0m \u001b[0mc\u001b[0m\u001b[1;33m\u001b[0m\u001b[0m\n\u001b[0m\u001b[0;32m    251\u001b[0m \u001b[1;33m\u001b[0m\u001b[0m\n\u001b[0;32m    252\u001b[0m     \u001b[1;32mreturn\u001b[0m \u001b[0merror\u001b[0m\u001b[1;33m,\u001b[0m \u001b[0mgrad\u001b[0m\u001b[1;33m\u001b[0m\u001b[0m\n",
      "\u001b[1;31mKeyboardInterrupt\u001b[0m: "
     ]
    }
   ],
   "source": [
    "tsne_plot(model)"
   ]
  },
  {
   "cell_type": "code",
   "execution_count": null,
   "metadata": {
    "collapsed": true
   },
   "outputs": [],
   "source": []
  }
 ],
 "metadata": {
  "kernelspec": {
   "display_name": "Python [conda root]",
   "language": "python",
   "name": "conda-root-py"
  },
  "language_info": {
   "codemirror_mode": {
    "name": "ipython",
    "version": 2
   },
   "file_extension": ".py",
   "mimetype": "text/x-python",
   "name": "python",
   "nbconvert_exporter": "python",
   "pygments_lexer": "ipython2",
   "version": "2.7.13"
  }
 },
 "nbformat": 4,
 "nbformat_minor": 2
}
